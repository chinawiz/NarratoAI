!git clone https://github.com/chinawiz/NarratoAI.git
%cd NarratoAI
!pip install -r requirements.txt
!sudo apt-get install -y imagemagick
!python main.py --share!python main.py --share
